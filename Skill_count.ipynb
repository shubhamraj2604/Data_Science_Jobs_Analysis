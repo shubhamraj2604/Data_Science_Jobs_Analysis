{
 "cells": [
  {
   "cell_type": "code",
   "execution_count": 19,
   "id": "0146d457",
   "metadata": {},
   "outputs": [],
   "source": [
    "# Importing Libraries\n",
    "import ast\n",
    "import pandas as pd\n",
    "import seaborn as sns\n",
    "from datasets import load_dataset\n",
    "import matplotlib.pyplot as plt  \n",
    "import seaborn as sns\n",
    "\n",
    "# Loading Data\n",
    "dataset = load_dataset('lukebarousse/data_jobs')\n",
    "df = dataset['train'].to_pandas()\n",
    "\n",
    "# Data Cleanup\n",
    "df['job_posted_date'] = pd.to_datetime(df['job_posted_date'])\n",
    "df['job_skills'] = df['job_skills'].apply(lambda x: ast.literal_eval(x) if pd.notna(x) else x)"
   ]
  },
  {
   "cell_type": "code",
   "execution_count": 20,
   "id": "4678105e",
   "metadata": {},
   "outputs": [
    {
     "data": {
      "text/plain": [
       "Index(['job_title_short', 'job_title', 'job_location', 'job_via',\n",
       "       'job_schedule_type', 'job_work_from_home', 'search_location',\n",
       "       'job_posted_date', 'job_no_degree_mention', 'job_health_insurance',\n",
       "       'job_country', 'salary_rate', 'salary_year_avg', 'salary_hour_avg',\n",
       "       'company_name', 'job_skills', 'job_type_skills'],\n",
       "      dtype='object')"
      ]
     },
     "execution_count": 20,
     "metadata": {},
     "output_type": "execute_result"
    }
   ],
   "source": [
    "df.columns"
   ]
  },
  {
   "cell_type": "code",
   "execution_count": 21,
   "id": "c0525fc5",
   "metadata": {},
   "outputs": [],
   "source": [
    "df_us = df[df['job_country'] == 'United States']"
   ]
  },
  {
   "cell_type": "code",
   "execution_count": 22,
   "id": "a3deec07",
   "metadata": {},
   "outputs": [],
   "source": [
    "df_skills = df_us.explode('job_skills')"
   ]
  },
  {
   "cell_type": "code",
   "execution_count": 23,
   "id": "ae48dbec",
   "metadata": {},
   "outputs": [
    {
     "data": {
      "application/vnd.microsoft.datawrangler.viewer.v0+json": {
       "columns": [
        {
         "name": "index",
         "rawType": "int64",
         "type": "integer"
        },
        {
         "name": "job_title",
         "rawType": "object",
         "type": "string"
        },
        {
         "name": "job_skills",
         "rawType": "object",
         "type": "unknown"
        }
       ],
       "ref": "06ad5674-dab3-46df-93d5-3d94291fe89f",
       "rows": [
        [
         "0",
         "Senior Clinical Data Engineer / Principal Clinical Data Engineer ...",
         null
        ],
        [
         "3",
         "LEAD ENGINEER - PRINCIPAL ANALYST - PRINCIPAL ENGINEER -  DATA...",
         "python"
        ],
        [
         "3",
         "LEAD ENGINEER - PRINCIPAL ANALYST - PRINCIPAL ENGINEER -  DATA...",
         "c++"
        ],
        [
         "3",
         "LEAD ENGINEER - PRINCIPAL ANALYST - PRINCIPAL ENGINEER -  DATA...",
         "java"
        ],
        [
         "3",
         "LEAD ENGINEER - PRINCIPAL ANALYST - PRINCIPAL ENGINEER -  DATA...",
         "matlab"
        ],
        [
         "3",
         "LEAD ENGINEER - PRINCIPAL ANALYST - PRINCIPAL ENGINEER -  DATA...",
         "aws"
        ],
        [
         "3",
         "LEAD ENGINEER - PRINCIPAL ANALYST - PRINCIPAL ENGINEER -  DATA...",
         "tensorflow"
        ],
        [
         "3",
         "LEAD ENGINEER - PRINCIPAL ANALYST - PRINCIPAL ENGINEER -  DATA...",
         "keras"
        ],
        [
         "3",
         "LEAD ENGINEER - PRINCIPAL ANALYST - PRINCIPAL ENGINEER -  DATA...",
         "pytorch"
        ],
        [
         "5",
         "GCP Data Engineer",
         "python"
        ],
        [
         "5",
         "GCP Data Engineer",
         "sql"
        ],
        [
         "5",
         "GCP Data Engineer",
         "gcp"
        ],
        [
         "6",
         "Senior Data Engineer  - GCP Cloud",
         "sql"
        ],
        [
         "6",
         "Senior Data Engineer  - GCP Cloud",
         "python"
        ],
        [
         "6",
         "Senior Data Engineer  - GCP Cloud",
         "java"
        ],
        [
         "6",
         "Senior Data Engineer  - GCP Cloud",
         "sql server"
        ],
        [
         "6",
         "Senior Data Engineer  - GCP Cloud",
         "gcp"
        ],
        [
         "6",
         "Senior Data Engineer  - GCP Cloud",
         "bigquery"
        ],
        [
         "6",
         "Senior Data Engineer  - GCP Cloud",
         "hadoop"
        ],
        [
         "9",
         "Data Scientist II",
         "sql"
        ],
        [
         "9",
         "Data Scientist II",
         "python"
        ],
        [
         "9",
         "Data Scientist II",
         "r"
        ],
        [
         "9",
         "Data Scientist II",
         "mongodb"
        ],
        [
         "9",
         "Data Scientist II",
         "mongodb"
        ],
        [
         "9",
         "Data Scientist II",
         "sql server"
        ],
        [
         "9",
         "Data Scientist II",
         "azure"
        ],
        [
         "9",
         "Data Scientist II",
         "pandas"
        ],
        [
         "9",
         "Data Scientist II",
         "spark"
        ],
        [
         "9",
         "Data Scientist II",
         "windows"
        ],
        [
         "9",
         "Data Scientist II",
         "excel"
        ],
        [
         "11",
         "Data Engineer",
         "python"
        ],
        [
         "11",
         "Data Engineer",
         "qlik"
        ],
        [
         "13",
         "Senior Data Engineer",
         "python"
        ],
        [
         "13",
         "Senior Data Engineer",
         "sql"
        ],
        [
         "13",
         "Senior Data Engineer",
         "go"
        ],
        [
         "13",
         "Senior Data Engineer",
         "ruby"
        ],
        [
         "13",
         "Senior Data Engineer",
         "ruby"
        ],
        [
         "13",
         "Senior Data Engineer",
         "javascript"
        ],
        [
         "13",
         "Senior Data Engineer",
         "aws"
        ],
        [
         "13",
         "Senior Data Engineer",
         "flask"
        ],
        [
         "13",
         "Senior Data Engineer",
         "fastapi"
        ],
        [
         "13",
         "Senior Data Engineer",
         "terraform"
        ],
        [
         "17",
         "Data Science Team Lead",
         "go"
        ],
        [
         "17",
         "Data Science Team Lead",
         "apl"
        ],
        [
         "17",
         "Data Science Team Lead",
         "excel"
        ],
        [
         "26",
         "Data Engineer",
         null
        ],
        [
         "27",
         "Principal Data Engineer (Lead), Knowledge Graphs and Data Semantics",
         "python"
        ],
        [
         "27",
         "Principal Data Engineer (Lead), Knowledge Graphs and Data Semantics",
         "r"
        ],
        [
         "27",
         "Principal Data Engineer (Lead), Knowledge Graphs and Data Semantics",
         "java"
        ],
        [
         "30",
         "Senior Data Engineer (Work from home Eligible)",
         "scala"
        ]
       ],
       "shape": {
        "columns": 2,
        "rows": 1073565
       }
      },
      "text/html": [
       "<div>\n",
       "<style scoped>\n",
       "    .dataframe tbody tr th:only-of-type {\n",
       "        vertical-align: middle;\n",
       "    }\n",
       "\n",
       "    .dataframe tbody tr th {\n",
       "        vertical-align: top;\n",
       "    }\n",
       "\n",
       "    .dataframe thead th {\n",
       "        text-align: right;\n",
       "    }\n",
       "</style>\n",
       "<table border=\"1\" class=\"dataframe\">\n",
       "  <thead>\n",
       "    <tr style=\"text-align: right;\">\n",
       "      <th></th>\n",
       "      <th>job_title</th>\n",
       "      <th>job_skills</th>\n",
       "    </tr>\n",
       "  </thead>\n",
       "  <tbody>\n",
       "    <tr>\n",
       "      <th>0</th>\n",
       "      <td>Senior Clinical Data Engineer / Principal Clin...</td>\n",
       "      <td>None</td>\n",
       "    </tr>\n",
       "    <tr>\n",
       "      <th>3</th>\n",
       "      <td>LEAD ENGINEER - PRINCIPAL ANALYST - PRINCIPAL ...</td>\n",
       "      <td>python</td>\n",
       "    </tr>\n",
       "    <tr>\n",
       "      <th>3</th>\n",
       "      <td>LEAD ENGINEER - PRINCIPAL ANALYST - PRINCIPAL ...</td>\n",
       "      <td>c++</td>\n",
       "    </tr>\n",
       "    <tr>\n",
       "      <th>3</th>\n",
       "      <td>LEAD ENGINEER - PRINCIPAL ANALYST - PRINCIPAL ...</td>\n",
       "      <td>java</td>\n",
       "    </tr>\n",
       "    <tr>\n",
       "      <th>3</th>\n",
       "      <td>LEAD ENGINEER - PRINCIPAL ANALYST - PRINCIPAL ...</td>\n",
       "      <td>matlab</td>\n",
       "    </tr>\n",
       "    <tr>\n",
       "      <th>...</th>\n",
       "      <td>...</td>\n",
       "      <td>...</td>\n",
       "    </tr>\n",
       "    <tr>\n",
       "      <th>785692</th>\n",
       "      <td>Data Scientist- Hybrid Work Location</td>\n",
       "      <td>r</td>\n",
       "    </tr>\n",
       "    <tr>\n",
       "      <th>785703</th>\n",
       "      <td>Data Analyst - CRYPTOGRAPHY - Full-time</td>\n",
       "      <td>None</td>\n",
       "    </tr>\n",
       "    <tr>\n",
       "      <th>785705</th>\n",
       "      <td>Expert Business Data Analyst - Now Hiring</td>\n",
       "      <td>sql</td>\n",
       "    </tr>\n",
       "    <tr>\n",
       "      <th>785705</th>\n",
       "      <td>Expert Business Data Analyst - Now Hiring</td>\n",
       "      <td>python</td>\n",
       "    </tr>\n",
       "    <tr>\n",
       "      <th>785705</th>\n",
       "      <td>Expert Business Data Analyst - Now Hiring</td>\n",
       "      <td>tableau</td>\n",
       "    </tr>\n",
       "  </tbody>\n",
       "</table>\n",
       "<p>1073565 rows × 2 columns</p>\n",
       "</div>"
      ],
      "text/plain": [
       "                                                job_title job_skills\n",
       "0       Senior Clinical Data Engineer / Principal Clin...       None\n",
       "3       LEAD ENGINEER - PRINCIPAL ANALYST - PRINCIPAL ...     python\n",
       "3       LEAD ENGINEER - PRINCIPAL ANALYST - PRINCIPAL ...        c++\n",
       "3       LEAD ENGINEER - PRINCIPAL ANALYST - PRINCIPAL ...       java\n",
       "3       LEAD ENGINEER - PRINCIPAL ANALYST - PRINCIPAL ...     matlab\n",
       "...                                                   ...        ...\n",
       "785692               Data Scientist- Hybrid Work Location          r\n",
       "785703            Data Analyst - CRYPTOGRAPHY - Full-time       None\n",
       "785705          Expert Business Data Analyst - Now Hiring        sql\n",
       "785705          Expert Business Data Analyst - Now Hiring     python\n",
       "785705          Expert Business Data Analyst - Now Hiring    tableau\n",
       "\n",
       "[1073565 rows x 2 columns]"
      ]
     },
     "execution_count": 23,
     "metadata": {},
     "output_type": "execute_result"
    }
   ],
   "source": [
    "df_skills[['job_title' , 'job_skills']]"
   ]
  },
  {
   "cell_type": "code",
   "execution_count": 24,
   "id": "8f7dcfd1",
   "metadata": {},
   "outputs": [
    {
     "data": {
      "text/plain": [
       "pandas.core.frame.DataFrame"
      ]
     },
     "execution_count": 24,
     "metadata": {},
     "output_type": "execute_result"
    }
   ],
   "source": [
    "df_skills_count = df_skills.groupby(['job_skills' , 'job_title_short']).size()\n",
    "df_skills_count = df_skills_count.reset_index(name = 'skill_count')\n",
    "type(df_skills_count)\n"
   ]
  },
  {
   "cell_type": "code",
   "execution_count": 25,
   "id": "146f6790",
   "metadata": {},
   "outputs": [
    {
     "data": {
      "application/vnd.microsoft.datawrangler.viewer.v0+json": {
       "columns": [
        {
         "name": "index",
         "rawType": "int64",
         "type": "integer"
        },
        {
         "name": "job_skills",
         "rawType": "object",
         "type": "string"
        },
        {
         "name": "job_title_short",
         "rawType": "object",
         "type": "string"
        },
        {
         "name": "skill_count",
         "rawType": "int64",
         "type": "integer"
        }
       ],
       "ref": "db02c676-0d8b-4f49-86b1-13665d5a4476",
       "rows": [
        [
         "1209",
         "python",
         "Data Scientist",
         "42379"
        ],
        [
         "1521",
         "sql",
         "Data Analyst",
         "34452"
        ],
        [
         "1523",
         "sql",
         "Data Scientist",
         "30034"
        ],
        [
         "455",
         "excel",
         "Data Analyst",
         "27519"
        ],
        [
         "1243",
         "r",
         "Data Scientist",
         "26022"
        ],
        [
         "1522",
         "sql",
         "Data Engineer",
         "23958"
        ],
        [
         "1208",
         "python",
         "Data Engineer",
         "22762"
        ],
        [
         "1611",
         "tableau",
         "Data Analyst",
         "19311"
        ],
        [
         "1207",
         "python",
         "Data Analyst",
         "18382"
        ],
        [
         "123",
         "aws",
         "Data Engineer",
         "15018"
        ],
        [
         "1351",
         "sas",
         "Data Scientist",
         "14340"
        ],
        [
         "1613",
         "tableau",
         "Data Scientist",
         "13859"
        ],
        [
         "1349",
         "sas",
         "Data Analyst",
         "13200"
        ],
        [
         "1241",
         "r",
         "Data Analyst",
         "11659"
        ],
        [
         "1149",
         "power bi",
         "Data Analyst",
         "11630"
        ],
        [
         "133",
         "azure",
         "Data Engineer",
         "11321"
        ],
        [
         "1472",
         "spark",
         "Data Engineer",
         "11242"
        ],
        [
         "124",
         "aws",
         "Data Scientist",
         "10288"
        ],
        [
         "1473",
         "spark",
         "Data Scientist",
         "9890"
        ],
        [
         "1213",
         "python",
         "Senior Data Scientist",
         "9816"
        ],
        [
         "688",
         "java",
         "Data Engineer",
         "8361"
        ],
        [
         "1457",
         "snowflake",
         "Data Engineer",
         "8190"
        ],
        [
         "1525",
         "sql",
         "Senior Data Analyst",
         "7803"
        ],
        [
         "1829",
         "word",
         "Data Analyst",
         "7611"
        ],
        [
         "1527",
         "sql",
         "Senior Data Scientist",
         "7421"
        ],
        [
         "689",
         "java",
         "Data Scientist",
         "7335"
        ],
        [
         "1165",
         "powerpoint",
         "Data Analyst",
         "7175"
        ],
        [
         "1623",
         "tensorflow",
         "Data Scientist",
         "7039"
        ],
        [
         "134",
         "azure",
         "Data Scientist",
         "6878"
        ],
        [
         "1212",
         "python",
         "Senior Data Engineer",
         "6692"
        ],
        [
         "1526",
         "sql",
         "Senior Data Engineer",
         "6651"
        ],
        [
         "457",
         "excel",
         "Data Scientist",
         "6598"
        ],
        [
         "635",
         "hadoop",
         "Data Engineer",
         "6340"
        ],
        [
         "636",
         "hadoop",
         "Data Scientist",
         "6285"
        ],
        [
         "755",
         "kafka",
         "Data Engineer",
         "6229"
        ],
        [
         "1367",
         "scala",
         "Data Engineer",
         "6127"
        ],
        [
         "335",
         "databricks",
         "Data Engineer",
         "5764"
        ],
        [
         "1247",
         "r",
         "Senior Data Scientist",
         "5741"
        ],
        [
         "1151",
         "power bi",
         "Data Scientist",
         "5657"
        ],
        [
         "1219",
         "pytorch",
         "Data Scientist",
         "5508"
        ],
        [
         "996",
         "nosql",
         "Data Engineer",
         "5506"
        ],
        [
         "1288",
         "redshift",
         "Data Engineer",
         "5465"
        ],
        [
         "1057",
         "oracle",
         "Data Analyst",
         "5109"
        ],
        [
         "1612",
         "tableau",
         "Data Engineer",
         "5022"
        ],
        [
         "1079",
         "pandas",
         "Data Scientist",
         "4884"
        ],
        [
         "127",
         "aws",
         "Senior Data Engineer",
         "4847"
        ],
        [
         "3",
         "airflow",
         "Data Engineer",
         "4716"
        ],
        [
         "1615",
         "tableau",
         "Senior Data Analyst",
         "4678"
        ],
        [
         "1368",
         "scala",
         "Data Scientist",
         "4621"
        ],
        [
         "1532",
         "sql server",
         "Data Engineer",
         "4440"
        ]
       ],
       "shape": {
        "columns": 3,
        "rows": 1870
       }
      },
      "text/html": [
       "<div>\n",
       "<style scoped>\n",
       "    .dataframe tbody tr th:only-of-type {\n",
       "        vertical-align: middle;\n",
       "    }\n",
       "\n",
       "    .dataframe tbody tr th {\n",
       "        vertical-align: top;\n",
       "    }\n",
       "\n",
       "    .dataframe thead th {\n",
       "        text-align: right;\n",
       "    }\n",
       "</style>\n",
       "<table border=\"1\" class=\"dataframe\">\n",
       "  <thead>\n",
       "    <tr style=\"text-align: right;\">\n",
       "      <th></th>\n",
       "      <th>job_skills</th>\n",
       "      <th>job_title_short</th>\n",
       "      <th>skill_count</th>\n",
       "    </tr>\n",
       "  </thead>\n",
       "  <tbody>\n",
       "    <tr>\n",
       "      <th>1209</th>\n",
       "      <td>python</td>\n",
       "      <td>Data Scientist</td>\n",
       "      <td>42379</td>\n",
       "    </tr>\n",
       "    <tr>\n",
       "      <th>1521</th>\n",
       "      <td>sql</td>\n",
       "      <td>Data Analyst</td>\n",
       "      <td>34452</td>\n",
       "    </tr>\n",
       "    <tr>\n",
       "      <th>1523</th>\n",
       "      <td>sql</td>\n",
       "      <td>Data Scientist</td>\n",
       "      <td>30034</td>\n",
       "    </tr>\n",
       "    <tr>\n",
       "      <th>455</th>\n",
       "      <td>excel</td>\n",
       "      <td>Data Analyst</td>\n",
       "      <td>27519</td>\n",
       "    </tr>\n",
       "    <tr>\n",
       "      <th>1243</th>\n",
       "      <td>r</td>\n",
       "      <td>Data Scientist</td>\n",
       "      <td>26022</td>\n",
       "    </tr>\n",
       "    <tr>\n",
       "      <th>...</th>\n",
       "      <td>...</td>\n",
       "      <td>...</td>\n",
       "      <td>...</td>\n",
       "    </tr>\n",
       "    <tr>\n",
       "      <th>245</th>\n",
       "      <td>clojure</td>\n",
       "      <td>Software Engineer</td>\n",
       "      <td>1</td>\n",
       "    </tr>\n",
       "    <tr>\n",
       "      <th>1738</th>\n",
       "      <td>vb.net</td>\n",
       "      <td>Senior Data Scientist</td>\n",
       "      <td>1</td>\n",
       "    </tr>\n",
       "    <tr>\n",
       "      <th>530</th>\n",
       "      <td>fortran</td>\n",
       "      <td>Machine Learning Engineer</td>\n",
       "      <td>1</td>\n",
       "    </tr>\n",
       "    <tr>\n",
       "      <th>1116</th>\n",
       "      <td>planner</td>\n",
       "      <td>Cloud Engineer</td>\n",
       "      <td>1</td>\n",
       "    </tr>\n",
       "    <tr>\n",
       "      <th>960</th>\n",
       "      <td>nltk</td>\n",
       "      <td>Senior Data Engineer</td>\n",
       "      <td>1</td>\n",
       "    </tr>\n",
       "  </tbody>\n",
       "</table>\n",
       "<p>1870 rows × 3 columns</p>\n",
       "</div>"
      ],
      "text/plain": [
       "     job_skills            job_title_short  skill_count\n",
       "1209     python             Data Scientist        42379\n",
       "1521        sql               Data Analyst        34452\n",
       "1523        sql             Data Scientist        30034\n",
       "455       excel               Data Analyst        27519\n",
       "1243          r             Data Scientist        26022\n",
       "...         ...                        ...          ...\n",
       "245     clojure          Software Engineer            1\n",
       "1738     vb.net      Senior Data Scientist            1\n",
       "530     fortran  Machine Learning Engineer            1\n",
       "1116    planner             Cloud Engineer            1\n",
       "960        nltk       Senior Data Engineer            1\n",
       "\n",
       "[1870 rows x 3 columns]"
      ]
     },
     "execution_count": 25,
     "metadata": {},
     "output_type": "execute_result"
    }
   ],
   "source": [
    "df_skills_count.sort_values(by='skill_count' , ascending=False , inplace=True)\n",
    "df_skills_count"
   ]
  },
  {
   "cell_type": "code",
   "execution_count": 26,
   "id": "6f46f7d3",
   "metadata": {},
   "outputs": [
    {
     "data": {
      "text/plain": [
       "['Data Analyst', 'Data Engineer', 'Data Scientist']"
      ]
     },
     "execution_count": 26,
     "metadata": {},
     "output_type": "execute_result"
    }
   ],
   "source": [
    "job_titles = df_skills_count['job_title_short'].unique().tolist()\n",
    "job_titles = sorted(job_titles[:3])\n",
    "job_titles"
   ]
  },
  {
   "cell_type": "code",
   "execution_count": 27,
   "id": "886ad2ad",
   "metadata": {},
   "outputs": [
    {
     "data": {
      "image/png": "[encoded data removed]",
      "text/plain": [
       "<Figure size 640x480 with 3 Axes>"
      ]
     },
     "metadata": {},
     "output_type": "display_data"
    }
   ],
   "source": [
    "fig , ax = plt.subplots(len(job_titles),1)\n",
    "\n",
    "for i , job_title in enumerate(job_titles):\n",
    "    df_plot = df_skills_count[df_skills_count['job_title_short'] == job_title].head(5)\n",
    "    df_plot.plot(kind ='barh' , x='job_skills' , y='skill_count' , ax=ax[i] , title=job_title)\n",
    "    ax[i].invert_yaxis()\n",
    "    ax[i].set_ylabel('')\n",
    "\n",
    "fig.tight_layout() "
   ]
  },
  {
   "cell_type": "code",
   "execution_count": 28,
   "id": "108d6237",
   "metadata": {},
   "outputs": [],
   "source": [
    "df_job_title_count = df_us['job_title_short'].value_counts().reset_index(name='jobs_total')"
   ]
  },
  {
   "cell_type": "code",
   "execution_count": 29,
   "id": "b52184a3",
   "metadata": {},
   "outputs": [
    {
     "data": {
      "application/vnd.microsoft.datawrangler.viewer.v0+json": {
       "columns": [
        {
         "name": "index",
         "rawType": "int64",
         "type": "integer"
        },
        {
         "name": "job_skills",
         "rawType": "object",
         "type": "string"
        },
        {
         "name": "job_title_short",
         "rawType": "object",
         "type": "string"
        },
        {
         "name": "skill_count",
         "rawType": "int64",
         "type": "integer"
        },
        {
         "name": "jobs_total",
         "rawType": "int64",
         "type": "integer"
        },
        {
         "name": "skill_percent",
         "rawType": "float64",
         "type": "float"
        }
       ],
       "ref": "37b1bab9-4cbd-4cac-ad82-80e7a53971ce",
       "rows": [
        [
         "0",
         "python",
         "Data Scientist",
         "42379",
         "58830",
         "72.03637599864015"
        ],
        [
         "1",
         "sql",
         "Data Analyst",
         "34452",
         "67816",
         "50.80217057921435"
        ],
        [
         "2",
         "sql",
         "Data Scientist",
         "30034",
         "58830",
         "51.052184259731426"
        ],
        [
         "3",
         "excel",
         "Data Analyst",
         "27519",
         "67816",
         "40.578919429043296"
        ],
        [
         "4",
         "r",
         "Data Scientist",
         "26022",
         "58830",
         "44.232534421213664"
        ],
        [
         "5",
         "sql",
         "Data Engineer",
         "23958",
         "35080",
         "68.29532497149373"
        ],
        [
         "6",
         "python",
         "Data Engineer",
         "22762",
         "35080",
         "64.88597491448118"
        ],
        [
         "7",
         "tableau",
         "Data Analyst",
         "19311",
         "67816",
         "28.475580983838622"
        ],
        [
         "8",
         "python",
         "Data Analyst",
         "18382",
         "67816",
         "27.105697770437654"
        ],
        [
         "9",
         "aws",
         "Data Engineer",
         "15018",
         "35080",
         "42.81071835803877"
        ],
        [
         "10",
         "sas",
         "Data Scientist",
         "14340",
         "58830",
         "24.375318714941358"
        ],
        [
         "11",
         "tableau",
         "Data Scientist",
         "13859",
         "58830",
         "23.557708652048273"
        ],
        [
         "12",
         "sas",
         "Data Analyst",
         "13200",
         "67816",
         "19.464433172112777"
        ],
        [
         "13",
         "r",
         "Data Analyst",
         "11659",
         "67816",
         "17.19210805709567"
        ],
        [
         "14",
         "power bi",
         "Data Analyst",
         "11630",
         "67816",
         "17.149345287247847"
        ],
        [
         "15",
         "azure",
         "Data Engineer",
         "11321",
         "35080",
         "32.27194982896237"
        ],
        [
         "16",
         "spark",
         "Data Engineer",
         "11242",
         "35080",
         "32.046750285062714"
        ],
        [
         "17",
         "aws",
         "Data Scientist",
         "10288",
         "58830",
         "17.487676355600883"
        ],
        [
         "18",
         "spark",
         "Data Scientist",
         "9890",
         "58830",
         "16.811150773414923"
        ],
        [
         "19",
         "python",
         "Senior Data Scientist",
         "9816",
         "12946",
         "75.82264792213812"
        ],
        [
         "20",
         "java",
         "Data Engineer",
         "8361",
         "35080",
         "23.834093500570127"
        ],
        [
         "21",
         "snowflake",
         "Data Engineer",
         "8190",
         "35080",
         "23.346636259977195"
        ],
        [
         "22",
         "sql",
         "Senior Data Analyst",
         "7803",
         "11791",
         "66.17759307946739"
        ],
        [
         "23",
         "word",
         "Data Analyst",
         "7611",
         "67816",
         "11.223015217647752"
        ],
        [
         "24",
         "sql",
         "Senior Data Scientist",
         "7421",
         "12946",
         "57.32272516607446"
        ],
        [
         "25",
         "java",
         "Data Scientist",
         "7335",
         "58830",
         "12.468128505864355"
        ],
        [
         "26",
         "powerpoint",
         "Data Analyst",
         "7175",
         "67816",
         "10.580099091659786"
        ],
        [
         "27",
         "tensorflow",
         "Data Scientist",
         "7039",
         "58830",
         "11.964983851776305"
        ],
        [
         "28",
         "azure",
         "Data Scientist",
         "6878",
         "58830",
         "11.6913139554649"
        ],
        [
         "29",
         "python",
         "Senior Data Engineer",
         "6692",
         "9289",
         "72.0422004521477"
        ],
        [
         "30",
         "sql",
         "Senior Data Engineer",
         "6651",
         "9289",
         "71.60081817203144"
        ],
        [
         "31",
         "excel",
         "Data Scientist",
         "6598",
         "58830",
         "11.215366309705932"
        ],
        [
         "32",
         "hadoop",
         "Data Engineer",
         "6340",
         "35080",
         "18.07297605473204"
        ],
        [
         "33",
         "hadoop",
         "Data Scientist",
         "6285",
         "58830",
         "10.68332483426823"
        ],
        [
         "34",
         "kafka",
         "Data Engineer",
         "6229",
         "35080",
         "17.75655644241733"
        ],
        [
         "35",
         "scala",
         "Data Engineer",
         "6127",
         "35080",
         "17.465792474344354"
        ],
        [
         "36",
         "databricks",
         "Data Engineer",
         "5764",
         "35080",
         "16.43101482326112"
        ],
        [
         "37",
         "r",
         "Senior Data Scientist",
         "5741",
         "12946",
         "44.34574385910706"
        ],
        [
         "38",
         "power bi",
         "Data Scientist",
         "5657",
         "58830",
         "9.61584225735169"
        ],
        [
         "39",
         "pytorch",
         "Data Scientist",
         "5508",
         "58830",
         "9.362570117287099"
        ],
        [
         "40",
         "nosql",
         "Data Engineer",
         "5506",
         "35080",
         "15.695553021664766"
        ],
        [
         "41",
         "redshift",
         "Data Engineer",
         "5465",
         "35080",
         "15.578677309007983"
        ],
        [
         "42",
         "oracle",
         "Data Analyst",
         "5109",
         "67816",
         "7.533620384570013"
        ],
        [
         "43",
         "tableau",
         "Data Engineer",
         "5022",
         "35080",
         "14.315849486887116"
        ],
        [
         "44",
         "pandas",
         "Data Scientist",
         "4884",
         "58830",
         "8.30188679245283"
        ],
        [
         "45",
         "aws",
         "Senior Data Engineer",
         "4847",
         "9289",
         "52.179997846915704"
        ],
        [
         "46",
         "airflow",
         "Data Engineer",
         "4716",
         "35080",
         "13.443557582668188"
        ],
        [
         "47",
         "tableau",
         "Senior Data Analyst",
         "4678",
         "11791",
         "39.67432787719447"
        ],
        [
         "48",
         "scala",
         "Data Scientist",
         "4621",
         "58830",
         "7.854835968043515"
        ],
        [
         "49",
         "sql server",
         "Data Engineer",
         "4440",
         "35080",
         "12.65678449258837"
        ]
       ],
       "shape": {
        "columns": 5,
        "rows": 1870
       }
      },
      "text/html": [
       "<div>\n",
       "<style scoped>\n",
       "    .dataframe tbody tr th:only-of-type {\n",
       "        vertical-align: middle;\n",
       "    }\n",
       "\n",
       "    .dataframe tbody tr th {\n",
       "        vertical-align: top;\n",
       "    }\n",
       "\n",
       "    .dataframe thead th {\n",
       "        text-align: right;\n",
       "    }\n",
       "</style>\n",
       "<table border=\"1\" class=\"dataframe\">\n",
       "  <thead>\n",
       "    <tr style=\"text-align: right;\">\n",
       "      <th></th>\n",
       "      <th>job_skills</th>\n",
       "      <th>job_title_short</th>\n",
       "      <th>skill_count</th>\n",
       "      <th>jobs_total</th>\n",
       "      <th>skill_percent</th>\n",
       "    </tr>\n",
       "  </thead>\n",
       "  <tbody>\n",
       "    <tr>\n",
       "      <th>0</th>\n",
       "      <td>python</td>\n",
       "      <td>Data Scientist</td>\n",
       "      <td>42379</td>\n",
       "      <td>58830</td>\n",
       "      <td>72.036376</td>\n",
       "    </tr>\n",
       "    <tr>\n",
       "      <th>1</th>\n",
       "      <td>sql</td>\n",
       "      <td>Data Analyst</td>\n",
       "      <td>34452</td>\n",
       "      <td>67816</td>\n",
       "      <td>50.802171</td>\n",
       "    </tr>\n",
       "    <tr>\n",
       "      <th>2</th>\n",
       "      <td>sql</td>\n",
       "      <td>Data Scientist</td>\n",
       "      <td>30034</td>\n",
       "      <td>58830</td>\n",
       "      <td>51.052184</td>\n",
       "    </tr>\n",
       "    <tr>\n",
       "      <th>3</th>\n",
       "      <td>excel</td>\n",
       "      <td>Data Analyst</td>\n",
       "      <td>27519</td>\n",
       "      <td>67816</td>\n",
       "      <td>40.578919</td>\n",
       "    </tr>\n",
       "    <tr>\n",
       "      <th>4</th>\n",
       "      <td>r</td>\n",
       "      <td>Data Scientist</td>\n",
       "      <td>26022</td>\n",
       "      <td>58830</td>\n",
       "      <td>44.232534</td>\n",
       "    </tr>\n",
       "    <tr>\n",
       "      <th>...</th>\n",
       "      <td>...</td>\n",
       "      <td>...</td>\n",
       "      <td>...</td>\n",
       "      <td>...</td>\n",
       "      <td>...</td>\n",
       "    </tr>\n",
       "    <tr>\n",
       "      <th>1865</th>\n",
       "      <td>clojure</td>\n",
       "      <td>Software Engineer</td>\n",
       "      <td>1</td>\n",
       "      <td>1814</td>\n",
       "      <td>0.055127</td>\n",
       "    </tr>\n",
       "    <tr>\n",
       "      <th>1866</th>\n",
       "      <td>vb.net</td>\n",
       "      <td>Senior Data Scientist</td>\n",
       "      <td>1</td>\n",
       "      <td>12946</td>\n",
       "      <td>0.007724</td>\n",
       "    </tr>\n",
       "    <tr>\n",
       "      <th>1867</th>\n",
       "      <td>fortran</td>\n",
       "      <td>Machine Learning Engineer</td>\n",
       "      <td>1</td>\n",
       "      <td>921</td>\n",
       "      <td>0.108578</td>\n",
       "    </tr>\n",
       "    <tr>\n",
       "      <th>1868</th>\n",
       "      <td>planner</td>\n",
       "      <td>Cloud Engineer</td>\n",
       "      <td>1</td>\n",
       "      <td>423</td>\n",
       "      <td>0.236407</td>\n",
       "    </tr>\n",
       "    <tr>\n",
       "      <th>1869</th>\n",
       "      <td>nltk</td>\n",
       "      <td>Senior Data Engineer</td>\n",
       "      <td>1</td>\n",
       "      <td>9289</td>\n",
       "      <td>0.010765</td>\n",
       "    </tr>\n",
       "  </tbody>\n",
       "</table>\n",
       "<p>1870 rows × 5 columns</p>\n",
       "</div>"
      ],
      "text/plain": [
       "     job_skills            job_title_short  skill_count  jobs_total  \\\n",
       "0        python             Data Scientist        42379       58830   \n",
       "1           sql               Data Analyst        34452       67816   \n",
       "2           sql             Data Scientist        30034       58830   \n",
       "3         excel               Data Analyst        27519       67816   \n",
       "4             r             Data Scientist        26022       58830   \n",
       "...         ...                        ...          ...         ...   \n",
       "1865    clojure          Software Engineer            1        1814   \n",
       "1866     vb.net      Senior Data Scientist            1       12946   \n",
       "1867    fortran  Machine Learning Engineer            1         921   \n",
       "1868    planner             Cloud Engineer            1         423   \n",
       "1869       nltk       Senior Data Engineer            1        9289   \n",
       "\n",
       "      skill_percent  \n",
       "0         72.036376  \n",
       "1         50.802171  \n",
       "2         51.052184  \n",
       "3         40.578919  \n",
       "4         44.232534  \n",
       "...             ...  \n",
       "1865       0.055127  \n",
       "1866       0.007724  \n",
       "1867       0.108578  \n",
       "1868       0.236407  \n",
       "1869       0.010765  \n",
       "\n",
       "[1870 rows x 5 columns]"
      ]
     },
     "execution_count": 29,
     "metadata": {},
     "output_type": "execute_result"
    }
   ],
   "source": [
    "df_skills_perc = pd.merge(df_skills_count , df_job_title_count , how='left', on='job_title_short')\n",
    "\n",
    "df_skills_perc['skill_percent'] =100 * df_skills_perc['skill_count'] / df_skills_perc['jobs_total']\n",
    "\n",
    "df_skills_perc\n"
   ]
  },
  {
   "cell_type": "code",
   "execution_count": 53,
   "id": "80629e89",
   "metadata": {},
   "outputs": [
    {
     "data": {
      "image/png": "[encoded data removed]",
      "text/plain": [
       "<Figure size 640x480 with 3 Axes>"
      ]
     },
     "metadata": {},
     "output_type": "display_data"
    }
   ],
   "source": [
    "fig , ax = plt.subplots(len(job_titles),1)\n",
    "\n",
    "sns.set_theme(style='ticks')\n",
    "for i , job_title in enumerate(job_titles):\n",
    "    df_plot = df_skills_perc[df_skills_perc['job_title_short'] == job_title].head(5)\n",
    "    sns.barplot(data = df_plot , x='skill_percent' , y='job_skills' , ax=ax[i] , hue='skill_count' , palette='dark:b_r')\n",
    "    # ax[i].invert_yaxis()\n",
    "    ax[i].set_title(job_title)\n",
    "    ax[i].set_ylabel('')\n",
    "    ax[i].legend().set_visible(False)\n",
    "    ax[i].set_xlim(0,78)\n",
    "\n",
    "    for n , v in enumerate(df_plot['skill_percent']):\n",
    "        ax[i].text(v + 1,n,f'{v:.0f}%' , va='center')\n",
    "    \n",
    "    if i != len(job_titles) - 1:\n",
    "        ax[i].set_xticks([])\n",
    "\n",
    "fig.tight_layout() "
   ]
  },
  {
   "cell_type": "code",
   "execution_count": null,
   "id": "e08e00b1",
   "metadata": {},
   "outputs": [],
   "source": []
  }
 ],
 "metadata": {
  "kernelspec": {
   "display_name": "base",
   "language": "python",
   "name": "python3"
  },
  "language_info": {
   "codemirror_mode": {
    "name": "ipython",
    "version": 3
   },
   "file_extension": ".py",
   "mimetype": "text/x-python",
   "name": "python",
   "nbconvert_exporter": "python",
   "pygments_lexer": "ipython3",
   "version": "3.12.7"
  }
 },
 "nbformat": 4,
 "nbformat_minor": 5
}
