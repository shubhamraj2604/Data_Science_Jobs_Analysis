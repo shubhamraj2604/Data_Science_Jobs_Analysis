{
 "cells": [
  {
   "cell_type": "markdown",
   "id": "90912a4d",
   "metadata": {},
   "source": [
    "## EXPLORATORY DATA ANALYSIS AND INTRO"
   ]
  },
  {
   "cell_type": "markdown",
   "id": "a2564f3c",
   "metadata": {
    "vscode": {
     "languageId": "latex"
    }
   },
   "source": [
    "## Goal\n",
    "\n",
    "1. Investigate top-paying roles and skills in the data science industry.\n",
    "2. Use Python to explore a real-live dataset on job postings.\n",
    "3. For job-seekers: use these insights to help find the best job opportunities."
   ]
  },
  {
   "cell_type": "markdown",
   "id": "a007ca53",
   "metadata": {},
   "source": [
    "## Final Deliverables:\n",
    "- Create Jupyter Notebookss (showcasing core skills in Python).\n",
    "- Create a summary page (via [README.md](README.md)) capturing your findings.\n",
    "- Share this project via GitHub & LinkedIn."
   ]
  },
  {
   "cell_type": "markdown",
   "id": "0657130a",
   "metadata": {},
   "source": [
    "## Questions to Answer\n",
    "\n",
    "1. What are the most demanded skills for the top 3 most popular data roles?\n",
    "2. How are in-demand skills trending for Data Analysts?\n",
    "3. How well do jobs and skills pay for Data Analysts?\n",
    "4. What is the most optimal skill to learn for Data Analysts? (High Demand AND High Paying\n",
    "\n"
   ]
  },
  {
   "cell_type": "code",
   "execution_count": null,
   "id": "25f8a44d",
   "metadata": {
    "vscode": {
     "languageId": "plaintext"
    }
   },
   "outputs": [],
   "source": []
  },
  {
   "cell_type": "markdown",
   "id": "be479345",
   "metadata": {},
   "source": []
  }
 ],
 "metadata": {
  "language_info": {
   "name": "python"
  }
 },
 "nbformat": 4,
 "nbformat_minor": 5
}
